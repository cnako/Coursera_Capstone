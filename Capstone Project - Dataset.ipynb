{
    "cells": [
        {
            "cell_type": "markdown",
            "metadata": {
                "collapsed": true
            },
            "source": "# IBM Data Science Certification - Capstone Project - Week 4\n## Dataset - COVID spread in Houston/TX\n### Carlos Alexandre Nako"
        },
        {
            "cell_type": "markdown",
            "metadata": {},
            "source": "--------------------------------------------------------------"
        },
        {
            "cell_type": "markdown",
            "metadata": {},
            "source": "For this analysis, the data that will be needed are the following:\n- Number of COVID-19 cases by ZIP code in Houston \n- ZIP code location in Houston\n- Commerce data from Foursquare\n\nThe source of these data are from a couple of sites. Bellow are the sources, brief description and the data itself."
        },
        {
            "cell_type": "markdown",
            "metadata": {},
            "source": "#### Number of COVID-19 cases by ZIP code in Houston"
        },
        {
            "cell_type": "markdown",
            "metadata": {},
            "source": "The data for the number of COVID-19 cases will be sourced from 'City of Houston COVID-19 Data Hub'. This data is gathered by Houston Heath Department and is available to the general public. \n\nThe link for the 'City of Houston COVID-19 Data Hub' is:\n\nhttps://covid-harriscounty.hub.arcgis.com/datasets/081f346d4b9b43d88fcdc79e2e6c4517_0?geometry=-97.521%2C29.417%2C-93.349%2C30.250&showData=true\n\nThe data used is downloaded as a table ready to be used. The table has 'Total number of cases', 'Confirmed Cases', 'Active Cases', 'Recovered' and other metrics by ZIP code."
        },
        {
            "cell_type": "code",
            "execution_count": 1,
            "metadata": {},
            "outputs": [
                {
                    "data": {
                        "text/html": "<div>\n<style scoped>\n    .dataframe tbody tr th:only-of-type {\n        vertical-align: middle;\n    }\n\n    .dataframe tbody tr th {\n        vertical-align: top;\n    }\n\n    .dataframe thead th {\n        text-align: right;\n    }\n</style>\n<table border=\"1\" class=\"dataframe\">\n  <thead>\n    <tr style=\"text-align: right;\">\n      <th></th>\n      <th>OBJECTID_1</th>\n      <th>OBJECTID</th>\n      <th>ZIP</th>\n      <th>POSTAL</th>\n      <th>STATE</th>\n      <th>DATE_MOD</th>\n      <th>code</th>\n      <th>ZIP_TYPE</th>\n      <th>Shape_STArea_1</th>\n      <th>Shape_STLength_1</th>\n      <th>...</th>\n      <th>TotalConfirmedCases</th>\n      <th>ActiveCases</th>\n      <th>ActiveCases_str</th>\n      <th>Recovered</th>\n      <th>Death</th>\n      <th>Death_str</th>\n      <th>EditDate</th>\n      <th>Today</th>\n      <th>Shape__Area</th>\n      <th>Shape__Length</th>\n    </tr>\n  </thead>\n  <tbody>\n    <tr>\n      <th>0</th>\n      <td>1</td>\n      <td>229</td>\n      <td>77003</td>\n      <td>HOUSTON</td>\n      <td>TX</td>\n      <td>2011/10/07 00:00:00+00</td>\n      <td>HA</td>\n      <td>STANDARD</td>\n      <td>7.419092e+07</td>\n      <td>57485.331546</td>\n      <td>...</td>\n      <td>1122</td>\n      <td>14</td>\n      <td>14</td>\n      <td>1091</td>\n      <td>17</td>\n      <td>17</td>\n      <td>2021/05/20</td>\n      <td>2021/05/20</td>\n      <td>0.000643</td>\n      <td>0.170022</td>\n    </tr>\n    <tr>\n      <th>1</th>\n      <td>2</td>\n      <td>223</td>\n      <td>77004</td>\n      <td>HOUSTON</td>\n      <td>TX</td>\n      <td>2011/10/12 00:00:00+00</td>\n      <td>HA</td>\n      <td>STANDARD</td>\n      <td>1.651628e+08</td>\n      <td>67522.582037</td>\n      <td>...</td>\n      <td>2048</td>\n      <td>32</td>\n      <td>32</td>\n      <td>1983</td>\n      <td>33</td>\n      <td>33</td>\n      <td>2021/05/20</td>\n      <td>2021/05/20</td>\n      <td>0.001431</td>\n      <td>0.199602</td>\n    </tr>\n    <tr>\n      <th>2</th>\n      <td>3</td>\n      <td>225</td>\n      <td>77006</td>\n      <td>HOUSTON</td>\n      <td>TX</td>\n      <td>2011/06/08 00:00:00+00</td>\n      <td>HA</td>\n      <td>STANDARD</td>\n      <td>6.314081e+07</td>\n      <td>43137.266443</td>\n      <td>...</td>\n      <td>1386</td>\n      <td>13</td>\n      <td>13</td>\n      <td>1366</td>\n      <td>7</td>\n      <td>7</td>\n      <td>2021/05/20</td>\n      <td>2021/05/20</td>\n      <td>0.000547</td>\n      <td>0.127231</td>\n    </tr>\n    <tr>\n      <th>3</th>\n      <td>4</td>\n      <td>218</td>\n      <td>77007</td>\n      <td>HOUSTON</td>\n      <td>TX</td>\n      <td>2011/06/09 00:00:00+00</td>\n      <td>HA</td>\n      <td>STANDARD</td>\n      <td>2.188591e+08</td>\n      <td>88174.369103</td>\n      <td>...</td>\n      <td>3091</td>\n      <td>51</td>\n      <td>51</td>\n      <td>3031</td>\n      <td>9</td>\n      <td>9</td>\n      <td>2021/05/20</td>\n      <td>2021/05/20</td>\n      <td>0.001897</td>\n      <td>0.264630</td>\n    </tr>\n    <tr>\n      <th>4</th>\n      <td>5</td>\n      <td>86</td>\n      <td>77013</td>\n      <td>HOUSTON</td>\n      <td>TX</td>\n      <td>2011/06/17 00:00:00+00</td>\n      <td>HA</td>\n      <td>STANDARD</td>\n      <td>2.571837e+08</td>\n      <td>94063.832847</td>\n      <td>...</td>\n      <td>1623</td>\n      <td>34</td>\n      <td>34</td>\n      <td>1574</td>\n      <td>15</td>\n      <td>15</td>\n      <td>2021/05/20</td>\n      <td>2021/05/20</td>\n      <td>0.002230</td>\n      <td>0.279543</td>\n    </tr>\n  </tbody>\n</table>\n<p>5 rows \u00d7 22 columns</p>\n</div>",
                        "text/plain": "   OBJECTID_1  OBJECTID    ZIP   POSTAL STATE                DATE_MOD code  \\\n0           1       229  77003  HOUSTON    TX  2011/10/07 00:00:00+00   HA   \n1           2       223  77004  HOUSTON    TX  2011/10/12 00:00:00+00   HA   \n2           3       225  77006  HOUSTON    TX  2011/06/08 00:00:00+00   HA   \n3           4       218  77007  HOUSTON    TX  2011/06/09 00:00:00+00   HA   \n4           5        86  77013  HOUSTON    TX  2011/06/17 00:00:00+00   HA   \n\n   ZIP_TYPE  Shape_STArea_1  Shape_STLength_1  ...  TotalConfirmedCases  \\\n0  STANDARD    7.419092e+07      57485.331546  ...                 1122   \n1  STANDARD    1.651628e+08      67522.582037  ...                 2048   \n2  STANDARD    6.314081e+07      43137.266443  ...                 1386   \n3  STANDARD    2.188591e+08      88174.369103  ...                 3091   \n4  STANDARD    2.571837e+08      94063.832847  ...                 1623   \n\n   ActiveCases  ActiveCases_str  Recovered Death  Death_str    EditDate  \\\n0           14               14       1091    17         17  2021/05/20   \n1           32               32       1983    33         33  2021/05/20   \n2           13               13       1366     7          7  2021/05/20   \n3           51               51       3031     9          9  2021/05/20   \n4           34               34       1574    15         15  2021/05/20   \n\n        Today Shape__Area Shape__Length  \n0  2021/05/20    0.000643      0.170022  \n1  2021/05/20    0.001431      0.199602  \n2  2021/05/20    0.000547      0.127231  \n3  2021/05/20    0.001897      0.264630  \n4  2021/05/20    0.002230      0.279543  \n\n[5 rows x 22 columns]"
                    },
                    "execution_count": 1,
                    "metadata": {},
                    "output_type": "execute_result"
                }
            ],
            "source": "import pandas as pd\n\ncsv_path = 'https://opendata.arcgis.com/datasets/081f346d4b9b43d88fcdc79e2e6c4517_0.csv'\ncovid = pd.read_csv(csv_path)\ncovid.head()"
        },
        {
            "cell_type": "markdown",
            "metadata": {},
            "source": "   "
        },
        {
            "cell_type": "markdown",
            "metadata": {},
            "source": "#### ZIP code location in Houston"
        },
        {
            "cell_type": "markdown",
            "metadata": {},
            "source": "The data for the ZIP code location will be sourced from Zip Atlas which is a company specialized in Zip code for US.\n\nThe link for Zip Atlas is:\n\nhttp://zipatlas.com/us/tx/houston/zip-code-comparison/population-density.htm\n\nThe data will be retrieved with BeautifulSoup directly form the website."
        },
        {
            "cell_type": "code",
            "execution_count": 4,
            "metadata": {},
            "outputs": [
                {
                    "data": {
                        "text/html": "<div>\n<style scoped>\n    .dataframe tbody tr th:only-of-type {\n        vertical-align: middle;\n    }\n\n    .dataframe tbody tr th {\n        vertical-align: top;\n    }\n\n    .dataframe thead th {\n        text-align: right;\n    }\n</style>\n<table border=\"1\" class=\"dataframe\">\n  <thead>\n    <tr style=\"text-align: right;\">\n      <th></th>\n      <th>Zip Code</th>\n      <th>City</th>\n      <th>Population</th>\n      <th>Latitude</th>\n      <th>Longitude</th>\n    </tr>\n  </thead>\n  <tbody>\n    <tr>\n      <th>1</th>\n      <td>77046</td>\n      <td>Houston, Texas</td>\n      <td>471</td>\n      <td>29.733084</td>\n      <td>-95.430659</td>\n    </tr>\n    <tr>\n      <th>2</th>\n      <td>77081</td>\n      <td>Houston, Texas</td>\n      <td>49691</td>\n      <td>29.712099</td>\n      <td>-95.480935</td>\n    </tr>\n    <tr>\n      <th>3</th>\n      <td>77036</td>\n      <td>Houston, Texas</td>\n      <td>76146</td>\n      <td>29.699048</td>\n      <td>-95.536507</td>\n    </tr>\n    <tr>\n      <th>4</th>\n      <td>77006</td>\n      <td>Houston, Texas</td>\n      <td>18875</td>\n      <td>29.741003</td>\n      <td>-95.391271</td>\n    </tr>\n    <tr>\n      <th>5</th>\n      <td>77057</td>\n      <td>Houston, Texas</td>\n      <td>35491</td>\n      <td>29.744068</td>\n      <td>-95.489210</td>\n    </tr>\n    <tr>\n      <th>...</th>\n      <td>...</td>\n      <td>...</td>\n      <td>...</td>\n      <td>...</td>\n      <td>...</td>\n    </tr>\n    <tr>\n      <th>92</th>\n      <td>77049</td>\n      <td>Houston, Texas</td>\n      <td>16598</td>\n      <td>29.832928</td>\n      <td>-95.149040</td>\n    </tr>\n    <tr>\n      <th>93</th>\n      <td>77094</td>\n      <td>Houston, Texas</td>\n      <td>7779</td>\n      <td>29.769285</td>\n      <td>-95.681292</td>\n    </tr>\n    <tr>\n      <th>94</th>\n      <td>77050</td>\n      <td>Houston, Texas</td>\n      <td>4357</td>\n      <td>29.903351</td>\n      <td>-95.262070</td>\n    </tr>\n    <tr>\n      <th>95</th>\n      <td>77032</td>\n      <td>Houston, Texas</td>\n      <td>10796</td>\n      <td>29.987805</td>\n      <td>-95.353412</td>\n    </tr>\n    <tr>\n      <th>96</th>\n      <td>77044</td>\n      <td>Houston, Texas</td>\n      <td>13340</td>\n      <td>29.890649</td>\n      <td>-95.169294</td>\n    </tr>\n  </tbody>\n</table>\n<p>96 rows \u00d7 5 columns</p>\n</div>",
                        "text/plain": "0   Zip Code            City  Population   Latitude    Longitude\n1      77046  Houston, Texas         471  29.733084   -95.430659\n2      77081  Houston, Texas       49691  29.712099   -95.480935\n3      77036  Houston, Texas       76146  29.699048   -95.536507\n4      77006  Houston, Texas       18875  29.741003   -95.391271\n5      77057  Houston, Texas       35491  29.744068   -95.489210\n..       ...             ...         ...        ...          ...\n92     77049  Houston, Texas       16598  29.832928   -95.149040\n93     77094  Houston, Texas        7779  29.769285   -95.681292\n94     77050  Houston, Texas        4357  29.903351   -95.262070\n95     77032  Houston, Texas       10796  29.987805   -95.353412\n96     77044  Houston, Texas       13340  29.890649   -95.169294\n\n[96 rows x 5 columns]"
                    },
                    "execution_count": 4,
                    "metadata": {},
                    "output_type": "execute_result"
                }
            ],
            "source": "import requests\nfrom bs4 import BeautifulSoup\n\nhtml_data = requests.get('http://zipatlas.com/us/tx/houston/zip-code-comparison/population-density.htm')\nbeautiful_soup = BeautifulSoup(html_data.content, 'html.parser')\ntable_contents=[]\ntable=beautiful_soup.find_all('table')[13]\n\nfor row in table.findAll('tr'):\n    td = row.find_all('td')\n    rows = [row.text for row in td]\n    table_contents.append(rows)\n\ndf=pd.DataFrame(table_contents)\n\nnew_header = df.iloc[0] \ndf = df[1:] \ndf.columns = new_header \n\ndf[['Latitude','Longitude']] = df['Location'].str.split(',',expand=True)\ndf = df.drop(columns = ['#','Location','People / Sq. Mile','National Rank'])\n\ndf['Zip Code'] = df['Zip Code'].astype('int64')\ndf['Population'] = df['Population'].str.replace(',','')\ndf['Population'] = df['Population'].astype('int64')\n\ndf"
        },
        {
            "cell_type": "markdown",
            "metadata": {},
            "source": "   "
        },
        {
            "cell_type": "markdown",
            "metadata": {},
            "source": "#### Commerce data form Foursquare"
        },
        {
            "cell_type": "markdown",
            "metadata": {},
            "source": "Business data comes from Foursquare. To do that, ZIP location data will be used to retrive the Foursquare data. After retrieving business data for each ZIP code, they will be combined into one single table.\n\nThe Foursquare will be retrived as json and stored as table similar to what was done on the previous week."
        },
        {
            "cell_type": "code",
            "execution_count": 5,
            "metadata": {},
            "outputs": [],
            "source": "import json\nfrom pandas.io.json import json_normalize\n\ndef get_category_type(row):\n    try:\n        categories_list = row['categories']\n    except:\n        categories_list = row['venue.categories']\n        \n    if len(categories_list) == 0:\n        return None\n    else:\n        return categories_list[0]['name']"
        },
        {
            "cell_type": "markdown",
            "metadata": {},
            "source": "*Setting up Foursquare credentials"
        },
        {
            "cell_type": "code",
            "execution_count": 9,
            "metadata": {},
            "outputs": [
                {
                    "name": "stdout",
                    "output_type": "stream",
                    "text": "Credentails Set: CLIENT_ID, CLIENT_SECRET, ACCESS_TOKEN\n"
                }
            ],
            "source": "# The code was removed by Watson Studio for sharing."
        },
        {
            "cell_type": "code",
            "execution_count": 8,
            "metadata": {},
            "outputs": [
                {
                    "name": "stderr",
                    "output_type": "stream",
                    "text": "/opt/conda/envs/Python-3.7-main/lib/python3.7/site-packages/ipykernel/__main__.py:23: FutureWarning: pandas.io.json.json_normalize is deprecated, use pandas.json_normalize instead\n"
                },
                {
                    "data": {
                        "text/html": "<div>\n<style scoped>\n    .dataframe tbody tr th:only-of-type {\n        vertical-align: middle;\n    }\n\n    .dataframe tbody tr th {\n        vertical-align: top;\n    }\n\n    .dataframe thead th {\n        text-align: right;\n    }\n</style>\n<table border=\"1\" class=\"dataframe\">\n  <thead>\n    <tr style=\"text-align: right;\">\n      <th></th>\n      <th>name</th>\n      <th>categories</th>\n      <th>lat</th>\n      <th>lng</th>\n      <th>PostalCode</th>\n    </tr>\n  </thead>\n  <tbody>\n    <tr>\n      <th>0</th>\n      <td>Eunice</td>\n      <td>Seafood Restaurant</td>\n      <td>29.732910</td>\n      <td>-95.428648</td>\n      <td>77046</td>\n    </tr>\n    <tr>\n      <th>1</th>\n      <td>Levy Park</td>\n      <td>Park</td>\n      <td>29.732945</td>\n      <td>-95.424319</td>\n      <td>77046</td>\n    </tr>\n    <tr>\n      <th>2</th>\n      <td>Urban Harvest Farmers Market</td>\n      <td>Farmers Market</td>\n      <td>29.735229</td>\n      <td>-95.424442</td>\n      <td>77046</td>\n    </tr>\n    <tr>\n      <th>3</th>\n      <td>Game Over Videogames</td>\n      <td>Video Game Store</td>\n      <td>29.728696</td>\n      <td>-95.431958</td>\n      <td>77046</td>\n    </tr>\n    <tr>\n      <th>4</th>\n      <td>100% Taquito</td>\n      <td>Mexican Restaurant</td>\n      <td>29.728784</td>\n      <td>-95.431001</td>\n      <td>77046</td>\n    </tr>\n    <tr>\n      <th>...</th>\n      <td>...</td>\n      <td>...</td>\n      <td>...</td>\n      <td>...</td>\n      <td>...</td>\n    </tr>\n    <tr>\n      <th>4339</th>\n      <td>AB Books</td>\n      <td>Bookstore</td>\n      <td>29.896336</td>\n      <td>-95.175333</td>\n      <td>77044</td>\n    </tr>\n    <tr>\n      <th>4340</th>\n      <td>Shy Girls Saloon</td>\n      <td>Bar</td>\n      <td>29.884797</td>\n      <td>-95.161700</td>\n      <td>77044</td>\n    </tr>\n    <tr>\n      <th>4341</th>\n      <td>Garrett Road Ice House</td>\n      <td>Dive Bar</td>\n      <td>29.885035</td>\n      <td>-95.161340</td>\n      <td>77044</td>\n    </tr>\n    <tr>\n      <th>4342</th>\n      <td>Sheldon Aqueduct</td>\n      <td>River</td>\n      <td>29.888402</td>\n      <td>-95.158141</td>\n      <td>77044</td>\n    </tr>\n    <tr>\n      <th>4343</th>\n      <td>Mojo's Ranch</td>\n      <td>Burger Joint</td>\n      <td>29.883055</td>\n      <td>-95.160194</td>\n      <td>77044</td>\n    </tr>\n  </tbody>\n</table>\n<p>4344 rows \u00d7 5 columns</p>\n</div>",
                        "text/plain": "                              name          categories        lat        lng  \\\n0                           Eunice  Seafood Restaurant  29.732910 -95.428648   \n1                        Levy Park                Park  29.732945 -95.424319   \n2     Urban Harvest Farmers Market      Farmers Market  29.735229 -95.424442   \n3             Game Over Videogames    Video Game Store  29.728696 -95.431958   \n4                     100% Taquito  Mexican Restaurant  29.728784 -95.431001   \n...                            ...                 ...        ...        ...   \n4339                      AB Books           Bookstore  29.896336 -95.175333   \n4340              Shy Girls Saloon                 Bar  29.884797 -95.161700   \n4341        Garrett Road Ice House            Dive Bar  29.885035 -95.161340   \n4342              Sheldon Aqueduct               River  29.888402 -95.158141   \n4343                  Mojo's Ranch        Burger Joint  29.883055 -95.160194   \n\n      PostalCode  \n0          77046  \n1          77046  \n2          77046  \n3          77046  \n4          77046  \n...          ...  \n4339       77044  \n4340       77044  \n4341       77044  \n4342       77044  \n4343       77044  \n\n[4344 rows x 5 columns]"
                    },
                    "execution_count": 8,
                    "metadata": {},
                    "output_type": "execute_result"
                }
            ],
            "source": "zip_size = df.shape[0]\nnearby_venues = pd.DataFrame()\nvenue_list = pd.DataFrame()\nno_venue = pd.DataFrame(columns=['No ZIP'])\n\nradius = 1600\nLIMIT = 500\n\nfiltered_columns = ['venue.name', 'venue.categories', 'venue.location.lat', 'venue.location.lng']\n\nfor i in range(0,zip_size):\n\n    PostalCode_latitude = df.loc[i+1, 'Latitude'] # Postal Code latitude value\n    PostalCode_longitude = df.loc[i+1, 'Longitude'] # Postal Code longitude value\n    PostalCode_ZIP = df.loc[i+1, 'Zip Code'] # Postal Code value\n\n    url = 'https://api.foursquare.com/v2/venues/explore?client_id={}&client_secret={}&ll={},{}&v={}&radius={}&limit={}'.format(CLIENT_ID, CLIENT_SECRET, PostalCode_latitude, PostalCode_longitude, VERSION, radius, LIMIT)\n    results = requests.get(url).json()\n    \n    venues = results['response']['groups'][0]['items']\n    \n    nearby_venues = nearby_venues.iloc[0:0]\n    nearby_venues = json_normalize(venues) # flatten JSON\n    \n    if len(nearby_venues) == 0:\n        no_venue = no_venue.append({'No ZIP' : PostalCode_ZIP}, ignore_index=True)\n    else:\n        nearby_venues['venue.categories'] = nearby_venues.apply(get_category_type, axis=1)\n        nearby_venues = nearby_venues.loc[:, filtered_columns]\n        nearby_venues['PostalCode'] = PostalCode_ZIP\n    \n        venue_list = venue_list.append(nearby_venues, ignore_index=True)\n\nvenue_list.columns = [col.split(\".\")[-1] for col in venue_list.columns]\nvenue_list"
        }
    ],
    "metadata": {
        "kernelspec": {
            "display_name": "Python 3.7",
            "language": "python",
            "name": "python3"
        },
        "language_info": {
            "codemirror_mode": {
                "name": "ipython",
                "version": 3
            },
            "file_extension": ".py",
            "mimetype": "text/x-python",
            "name": "python",
            "nbconvert_exporter": "python",
            "pygments_lexer": "ipython3",
            "version": "3.7.10"
        }
    },
    "nbformat": 4,
    "nbformat_minor": 1
}