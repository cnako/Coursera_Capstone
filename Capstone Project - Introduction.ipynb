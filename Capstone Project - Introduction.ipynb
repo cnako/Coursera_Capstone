{
    "cells": [
        {
            "cell_type": "markdown",
            "metadata": {
                "collapsed": true
            },
            "source": "# IBM Data Science Certification - Capstone Project - Week 4\n## Introduction - COVID spread in Houston/TX\n### Carlos Alexandre Nako"
        },
        {
            "cell_type": "markdown",
            "metadata": {},
            "source": "---------------------------------------------------------------------"
        },
        {
            "cell_type": "markdown",
            "metadata": {},
            "source": "Throughout 2020, we faced challenges never faced before with COVID-19. Although in the early months of 2020 few people could imagine the magnitude of the pandemic. This was the same in most of the western world, including Houston-TX. \n"
        },
        {
            "cell_type": "markdown",
            "metadata": {},
            "source": "In light of that, in order to have effective heath measures, policy makers need to have a good understanding of how customer facing business, either retail, restaurants, bars and others, relates with COVID-19 spread. The objective of this report is to use available COVID cases in Houston and Foursquare business location data to understand what is the relation between COVID-19 cases across Houston and the number of businesses in each region so that policy makers can take this to create effective measures to curb COVID-19 spread."
        },
        {
            "cell_type": "code",
            "execution_count": null,
            "metadata": {},
            "outputs": [],
            "source": ""
        }
    ],
    "metadata": {
        "kernelspec": {
            "display_name": "Python 3.7",
            "language": "python",
            "name": "python3"
        },
        "language_info": {
            "codemirror_mode": {
                "name": "ipython",
                "version": 3
            },
            "file_extension": ".py",
            "mimetype": "text/x-python",
            "name": "python",
            "nbconvert_exporter": "python",
            "pygments_lexer": "ipython3",
            "version": "3.7.10"
        }
    },
    "nbformat": 4,
    "nbformat_minor": 1
}